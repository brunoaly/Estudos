{
 "cells": [
  {
   "cell_type": "code",
   "execution_count": null,
   "metadata": {},
   "outputs": [],
   "source": [
    "nota1 = 10 #float(input(\"Insira o valor da primeira nota: \"))\n",
    "nota2 = 8 #float(input(\"Insira o valor da segunda nota: \"))\n",
    "nota3 = 1 #float(input(\"Insira o valor da terceira nota: \"))\n",
    "nota4 = 4 #float(input(\"Insira o valor da quarta nota: \"))\n",
    "nota5 = 1 #float(input(\"Insira o valor da quinta nota: \"))\n",
    "\n",
    "\n",
    "\n",
    "def calcularMedia(media):\n",
    "     media = (nota1 * 0.3) + (nota2 * 0.25) + (nota3 * 0.15) + (nota4 * 0.15) + (nota5 * 0.15)\n",
    "     if media >=7:\n",
    "        print('Parabéns você foi aprovado com a média de ', media)\n",
    "     else:\n",
    "        print('Você foi reprovado por aproximadamente', round(7-media), 'ponto')\n",
    "        \n",
    "        return media\n",
    "\n",
    "\n",
    "\n",
    "print('Média: ', calcularMedia)\n",
    "\n"
   ]
  },
  {
   "cell_type": "code",
   "execution_count": null,
   "metadata": {},
   "outputs": [],
   "source": [
    "tuple = range(100)\n",
    "\n",
    "for i in tuple:\n",
    "    print(i)\n"
   ]
  },
  {
   "cell_type": "code",
   "execution_count": 7,
   "metadata": {},
   "outputs": [
    {
     "name": "stdout",
     "output_type": "stream",
     "text": [
      "72\n",
      "88\n"
     ]
    }
   ],
   "source": [
    "matriz = [[72, 68, 31 ,223], [32, 54, 127, 10], [88, 76, 101, 44]]\n",
    "maior_numero = 0 \n",
    "\n",
    "for i in matriz: \n",
    "    for j in i:\n",
    "        if j >= maior_numero and j % 2 == 0:\n",
    "            maior_numero = j\n",
    "            print(j)   "
   ]
  }
 ],
 "metadata": {
  "kernelspec": {
   "display_name": "Python 3",
   "language": "python",
   "name": "python3"
  },
  "language_info": {
   "codemirror_mode": {
    "name": "ipython",
    "version": 3
   },
   "file_extension": ".py",
   "mimetype": "text/x-python",
   "name": "python",
   "nbconvert_exporter": "python",
   "pygments_lexer": "ipython3",
   "version": "3.12.4"
  }
 },
 "nbformat": 4,
 "nbformat_minor": 2
}
