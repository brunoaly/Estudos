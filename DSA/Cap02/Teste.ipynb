{
 "cells": [
  {
   "cell_type": "code",
   "execution_count": 1,
   "id": "3b80f31b-79fa-4d50-a2da-1fbd532db791",
   "metadata": {},
   "outputs": [
    {
     "data": {
      "text/plain": [
       "4"
      ]
     },
     "execution_count": 1,
     "metadata": {},
     "output_type": "execute_result"
    }
   ],
   "source": [
    "2+2 "
   ]
  },
  {
   "cell_type": "code",
   "execution_count": 2,
   "id": "bb76cae5-4492-43b8-9764-43d9eaaa447b",
   "metadata": {},
   "outputs": [
    {
     "name": "stdout",
     "output_type": "stream",
     "text": [
      "Hello World\n"
     ]
    }
   ],
   "source": [
    "print('Hello World')"
   ]
  },
  {
   "cell_type": "markdown",
   "id": "3ff97212-def3-42aa-bc5a-851f65e5645e",
   "metadata": {},
   "source": [
    "## Gere código Python que crie uma lista com o números entre 1 e 100 e então imprima os números pares, mas somente se o número for divisível por 4"
   ]
  },
  {
   "cell_type": "code",
   "execution_count": 3,
   "id": "771a74de-cfab-4636-82ae-0fa57aa94aee",
   "metadata": {},
   "outputs": [
    {
     "name": "stdout",
     "output_type": "stream",
     "text": [
      "4\n",
      "8\n",
      "12\n",
      "16\n",
      "20\n",
      "24\n",
      "28\n",
      "32\n",
      "36\n",
      "40\n",
      "44\n",
      "48\n",
      "52\n",
      "56\n",
      "60\n",
      "64\n",
      "68\n",
      "72\n",
      "76\n",
      "80\n",
      "84\n",
      "88\n",
      "92\n",
      "96\n",
      "100\n"
     ]
    }
   ],
   "source": [
    "# Cria uma lista com números de 1 a 100\n",
    "numeros = list(range(1, 101))\n",
    "\n",
    "# Itera pelos números e imprime os pares que são divisíveis por 4\n",
    "for numero in numeros:\n",
    "    if numero % 2 == 0 and numero % 4 == 0:\n",
    "        print(numero)\n"
   ]
  },
  {
   "cell_type": "markdown",
   "id": "c20ee29b-f8bf-43c1-8bf3-4a9ae8895ecc",
   "metadata": {},
   "source": [
    "## Gere código Python que crie uma lista com o números entre 1 e 100 e então imprima os números pares, mas somente se o número for divisível por 4, usando list comprehension"
   ]
  },
  {
   "cell_type": "code",
   "execution_count": 4,
   "id": "c5da90e3-4fbd-4692-8142-c1f68cd077f5",
   "metadata": {},
   "outputs": [
    {
     "name": "stdout",
     "output_type": "stream",
     "text": [
      "[4, 8, 12, 16, 20, 24, 28, 32, 36, 40, 44, 48, 52, 56, 60, 64, 68, 72, 76, 80, 84, 88, 92, 96, 100]\n"
     ]
    }
   ],
   "source": [
    "numeros_divisiveis_por_4 = [numero for numero in range(1, 101) if numero % 2 == 0 and numero % 4 == 0]\n",
    "\n",
    "print(numeros_divisiveis_por_4)\n"
   ]
  }
 ],
 "metadata": {
  "kernelspec": {
   "display_name": "Python 3 (ipykernel)",
   "language": "python",
   "name": "python3"
  },
  "language_info": {
   "codemirror_mode": {
    "name": "ipython",
    "version": 3
   },
   "file_extension": ".py",
   "mimetype": "text/x-python",
   "name": "python",
   "nbconvert_exporter": "python",
   "pygments_lexer": "ipython3",
   "version": "3.12.4"
  }
 },
 "nbformat": 4,
 "nbformat_minor": 5
}
